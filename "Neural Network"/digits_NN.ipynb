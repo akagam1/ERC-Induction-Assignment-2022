{
  "cells": [
    {
      "cell_type": "markdown",
      "metadata": {
        "id": "view-in-github",
        "colab_type": "text"
      },
      "source": [
        "<a href=\"https://colab.research.google.com/github/akagam1/ERC-Induction-Assignment-2022/blob/main/%22Neural%20Network%22/digits_NN.ipynb\" target=\"_parent\"><img src=\"https://colab.research.google.com/assets/colab-badge.svg\" alt=\"Open In Colab\"/></a>"
      ]
    },
    {
      "cell_type": "markdown",
      "source": [
        "# Summary of the experience\n",
        "\n",
        "Creating a neural network from the ground up was a very interesting experience. Not relying on any ML frameworks for the neural netwrok meant I was working much more closely with the mathematics behind a neural network, which is what really drew my interest towards this project. Since I attempted the mini-projects as well, I had already implemented a much more scaled down version of this current neural netowrk (3 layers: 2 input -> n-hidden neurons (set at 2) -> 1 output), therefore it was only a matter of scaling the previous structure by another layer (4 layers: 784 input -> 350 -> 150 -> 10 output). The biggest difficulty that I faced was finding time to train the neural network. My last successful attempt was a 48 minute runtime which resulted in only 11% accuracy. When I increased the number of epochs, it ran for about 3 hours and 20 minutes before colab disconnected and the results were lost. Since this is essentialy the same code as the xor gate neural netowrk but just scaled up, I'm confident there aren't any logical errors as such, and if it were to run properly without interruptions, it will give an acceptable result."
      ],
      "metadata": {
        "id": "j-U9dlMuF_LR"
      }
    },
    {
      "cell_type": "code",
      "execution_count": null,
      "metadata": {
        "id": "NR-XYH9PIdRO"
      },
      "outputs": [],
      "source": [
        "import numpy as np\n",
        "import random\n",
        "import matplotlib.pyplot as plt\n",
        "import pandas as pd\n",
        "from scipy.special import expit"
      ]
    },
    {
      "cell_type": "code",
      "execution_count": null,
      "metadata": {
        "colab": {
          "base_uri": "https://localhost:8080/",
          "height": 594
        },
        "id": "6A38WmSoLHuD",
        "outputId": "fd34a58b-8d65-4fb8-fea4-16e3c719cb44"
      },
      "outputs": [
        {
          "output_type": "display_data",
          "data": {
            "text/plain": [
              "<Figure size 720x720 with 25 Axes>"
            ],
            "image/png": "[encoded data removed]"
          },
          "metadata": {
            "needs_background": "light"
          }
        }
      ],
      "source": [
        "A3 = 0\n",
        "data = pd.read_csv('/content/drive/MyDrive/dataset2/train.csv')\n",
        "data_temp = data.head(5000)\n",
        "img1 = data.iloc[:25,1:].values\n",
        "fig, ax = plt.subplots(nrows=5,ncols=5,sharey = True, sharex = True)\n",
        "fig.set_figwidth(10)\n",
        "fig.set_figheight(10)\n",
        "for i in range(5):\n",
        "  for j in range(5):\n",
        "    img = img1[i+j].reshape(28,28)\n",
        "    ax[i,j].imshow(img, cmap='gray')"
      ]
    },
    {
      "cell_type": "code",
      "execution_count": null,
      "metadata": {
        "colab": {
          "base_uri": "https://localhost:8080/"
        },
        "id": "czbC8v4POuU6",
        "outputId": "679182c9-2b1f-4b96-b005-8418275b1e89"
      },
      "outputs": [
        {
          "output_type": "stream",
          "name": "stdout",
          "text": [
            "784\n",
            "(10, 5000)\n",
            "(5000,)\n",
            "(42000, 785)\n"
          ]
        }
      ],
      "source": [
        "x = data_temp.iloc[:,1:].values\n",
        "ytemp = data_temp.iloc[:,0].values\n",
        "y = []\n",
        "for i in range(x.shape[0]):\n",
        "  row = [(j==ytemp[i]).astype(int) for j in range(10)]\n",
        "  y.append(row)\n",
        "y = np.array(y)\n",
        "y = y.T\n",
        "x = x.T\n",
        "print(x.shape[0])\n",
        "print(y.shape)\n",
        "print(ytemp.shape)\n",
        "print(data.shape)"
      ]
    },
    {
      "cell_type": "code",
      "execution_count": null,
      "metadata": {
        "id": "Ag7Z5x2iIpjj"
      },
      "outputs": [],
      "source": [
        "def sigmoid(z):\n",
        "  return 1/(1+expit(-z))\n",
        "\n",
        "def initParas(input_size, hidden1_size, hidden2_size, output_size):\n",
        "  w1 = np.random.randn(hidden1_size, input_size)\n",
        "  w2 = np.random.randn(hidden2_size, hidden1_size)\n",
        "  w3 = np.random.randn(output_size, hidden2_size)\n",
        "  b1 = np.zeros((hidden1_size, 1))\n",
        "  b2 = np.zeros((hidden2_size, 1))\n",
        "  b3 = np.zeros((output_size, 1))\n",
        "\n",
        "  return (w1,w2,w3, b1, b2, b3)\n",
        "\n",
        "def forwardProp(x,y, parameters):\n",
        "  global A3\n",
        "  w1,w2,w3,b1,b2,b3 = parameters\n",
        "  m = x.shape[1]\n",
        "\n",
        "  z1 = np.dot(w1,x) + b1\n",
        "  a1 = sigmoid(z1)\n",
        "  z2 = np.dot(w2,a1) + b2\n",
        "  a2 = sigmoid(z2)\n",
        "  z3 = np.dot(w3, a2) + b3\n",
        "  a3 = sigmoid(z3)\n",
        "\n",
        "  A3 = a3\n",
        "  return (z1,a1,z2,a2,z3,a3)\n",
        "\n",
        "def backProp(x,y, forward,parameters):\n",
        "  w1,w2,w3,b1,b2,b3 = parameters\n",
        "  z1,a1,z2,a2,z3,a3= forward\n",
        "  m = x.shape[1]\n",
        "\n",
        "  dz3 = (y-a3)/m\n",
        "  dw3 = np.dot(dz3, a2.T)\n",
        "  db3 = np.sum(dz3, axis =1, keepdims = True) \n",
        "\n",
        "  da2 = np.dot(w3.T, dz3)\n",
        "  dz2 = np.multiply(da2, a2 * (1-a2))\n",
        "  dw2 = np.dot(dz2, a1.T)\n",
        "  db2 = np.sum(dz2, axis=1, keepdims = True) \n",
        "\n",
        "\n",
        "  da1 = np.dot(w2.T, dz2)\n",
        "  dz1 = np.multiply(da1, a1 * (1-a1))\n",
        "  dw1 = np.dot(dz1, x.T)\n",
        "  db1 = np.sum(dz1, axis=1, keepdims = True) \n",
        "\n",
        "  return (dz3, dw3, db3, dz2, dw2, db2, dz1, dw1, db1)\n",
        "\n",
        "def paraUpdate(parameters, grads, alpha):\n",
        "  w1,w2,w3,b1,b2,b3 = parameters\n",
        "  w1 = w1 + alpha*grads[7]\n",
        "  w2 = w2 + alpha*grads[4]\n",
        "  w3 = w3 + alpha*grads[1]\n",
        "  b1 = b1 + alpha*grads[8]\n",
        "  b2 = b2 + alpha*grads[5]\n",
        "  b3 = b3 + alpha*grads[2]\n",
        "\n",
        "  return (w1,w2,w3,b1,b2,b3)"
      ]
    },
    {
      "cell_type": "code",
      "execution_count": null,
      "metadata": {
        "id": "0dbCl_wSNPWq"
      },
      "outputs": [],
      "source": [
        "epochs = 5000\n",
        "alpha = 0.01\n",
        "input = 784\n",
        "hidden1 = 350\n",
        "hidden2 = 150\n",
        "output = 10\n",
        "parameters = initParas(input,hidden1,hidden2,output)\n",
        "\n",
        "for i in range(epochs):\n",
        "  forward = forwardProp(x,y,parameters)\n",
        "  back = backProp(x,y, forward, parameters)\n",
        "  parameters = paraUpdate(parameters, back, alpha)"
      ]
    },
    {
      "cell_type": "code",
      "execution_count": null,
      "metadata": {
        "colab": {
          "base_uri": "https://localhost:8080/"
        },
        "id": "GO9ZKc63Pu7t",
        "outputId": "c091c353-8d07-464d-d376-8ea66f5c20cd"
      },
      "outputs": [
        {
          "output_type": "stream",
          "name": "stdout",
          "text": [
            "Percent Accuracy: 9.879999999999999%\n",
            "(5000, 10)\n"
          ]
        }
      ],
      "source": [
        "correct = 0\n",
        "temp = forwardProp(x,y,parameters)\n",
        "y = y.T\n",
        "a3 = A3.T\n",
        "for i in range(x.shape[1]):\n",
        "  if np.argmax(a3[i]) == ytemp[i]:\n",
        "    correct+=1\n",
        " \n",
        "print(f'Percent Accuracy: {(correct/5000)*100}%')\n",
        "print(a3.shape)"
      ]
    }
  ],
  "metadata": {
    "accelerator": "TPU",
    "colab": {
      "collapsed_sections": [],
      "name": "digits-NN.ipynb",
      "provenance": [],
      "mount_file_id": "107cq8yevQWunkd1SihKOfzzJTdLBOo8-",
      "authorship_tag": "ABX9TyNJXZnRavHga+ptydb6rVop",
      "include_colab_link": true
    },
    "kernelspec": {
      "display_name": "Python 3",
      "name": "python3"
    },
    "language_info": {
      "name": "python"
    }
  },
  "nbformat": 4,
  "nbformat_minor": 0
}